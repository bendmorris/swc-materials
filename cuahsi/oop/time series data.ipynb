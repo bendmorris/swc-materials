{
 "metadata": {
  "name": "time series data"
 }, 
 "nbformat": 2, 
 "worksheets": [
  {
   "cells": [
    {
     "cell_type": "code", 
     "collapsed": false, 
     "input": [
      "input_file = open('time_series_data.txt')", 
      "data = []", 
      "for line in input_file:", 
      "    x, y = line.split(',')", 
      "    x = int(x)", 
      "    y = int(y)", 
      "    data.append((x,y))", 
      "    ", 
      "data"
     ], 
     "language": "python", 
     "outputs": [
      {
       "output_type": "pyout", 
       "prompt_number": 1, 
       "text": [
        "[(1, 10),", 
        " (2, 4),", 
        " (3, 3),", 
        " (4, 4),", 
        " (5, 5),", 
        " (6, 8),", 
        " (7, 12),", 
        " (8, 11),", 
        " (9, 13),", 
        " (10, 15)]"
       ]
      }
     ], 
     "prompt_number": 1
    }, 
    {
     "cell_type": "code", 
     "collapsed": false, 
     "input": [
      "class TimeSeries:", 
      "    def __init__(self, data):", 
      "        self.data = data", 
      "        ", 
      "    def get_y(self, x):", 
      "        for xi, yi in self.data:", 
      "            if xi == x:", 
      "                return yi", 
      "        raise Exception('x value not found in data')", 
      "    ", 
      "    def get_ys(self, xs):", 
      "        result = []", 
      "        for x in xs:", 
      "            result.append(self.get_y(x))", 
      "        return result", 
      "    ", 
      "    def view(self):", 
      "        import numpy as np", 
      "        import matplotlib.pyplot as plt", 
      "        xs = np.arange(0, 12, 0.1)", 
      "        plt.scatter(xs, self.get_ys(xs))", 
      "        plt.show()", 
      "        ", 
      "time_series = TimeSeries(data)"
     ], 
     "language": "python", 
     "outputs": [], 
     "prompt_number": 17
    }, 
    {
     "cell_type": "code", 
     "collapsed": false, 
     "input": [
      "class StepTimeSeries(TimeSeries):", 
      "    def get_y(self, x):", 
      "        best_distance = abs(self.data[0][0] - x)", 
      "        best_y_value = self.data[0][1]", 
      "        ", 
      "        for xi, yi in self.data:", 
      "            distance = abs(x - xi)", 
      "            if distance < best_distance:", 
      "                best_distance = distance", 
      "                best_y_value = yi", 
      "        ", 
      "        return best_y_value", 
      "    ", 
      "time_series = StepTimeSeries(data)", 
      "time_series.view()"
     ], 
     "language": "python", 
     "outputs": [], 
     "prompt_number": 19
    }, 
    {
     "cell_type": "code", 
     "collapsed": false, 
     "input": [
      "class LinearInterpolation(TimeSeries):", 
      "    def get_y(self, x):", 
      "        sorted_data = sorted(self.data)", 
      "        ", 
      "        if x < sorted_data[0][0]: return sorted_data[0][1]", 
      "        if x > sorted_data[-1][0]: return sorted_data[-1][1]", 
      "        ", 
      "        last_x = None", 
      "        last_y = None", 
      "        for xi, yi in sorted_data:", 
      "            if xi == x: return yi", 
      "            ", 
      "            if xi > x:", 
      "                x1, x2 = last_x, xi", 
      "                y1, y2 = last_y, yi", 
      "                break", 
      "                ", 
      "            last_x = xi", 
      "            last_y = yi", 
      "                ", 
      "        d1, d2 = abs(x-x1), abs(x-x2)", 
      "        total_weight = abs(x-x1) + abs(x-x2)", 
      "        w1, w2 = (total_weight-d1, total_weight-d2)", 
      "", 
      "        return self.weighted_average(y1, y2, w1, w2)", 
      "    ", 
      "    def weighted_average(self, y1, y2, w1, w2):", 
      "        return (y1 * w1 + y2 * w2) / (w1 + w2)", 
      "    ", 
      "time_series = LinearInterpolation(data)", 
      "time_series.view()"
     ], 
     "language": "python", 
     "outputs": [], 
     "prompt_number": 23
    }, 
    {
     "cell_type": "code", 
     "collapsed": true, 
     "input": [
      "class ExpWeightedInterpolation(LinearInterpolation):", 
      "    def __init__(self, data, exp=2):", 
      "        self.data = data", 
      "        self.exp = exp", 
      "        ", 
      "    def weighted_average(self, y1, y2, w1, w2):", 
      "        return LinearInterpolation.weighted_average(self, y1, y2, w1**self.exp, w2**self.exp)", 
      "    ", 
      "time_series = ExpWeightedInterpolation(data, 2)", 
      "time_series.view()"
     ], 
     "language": "python", 
     "outputs": [], 
     "prompt_number": "*"
    }
   ]
  }
 ]
}