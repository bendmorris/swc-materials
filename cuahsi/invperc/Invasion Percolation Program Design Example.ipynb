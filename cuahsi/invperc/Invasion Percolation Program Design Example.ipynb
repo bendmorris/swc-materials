{
 "metadata": {
  "name": "Invasion Percolation Program Design Example"
 },
 "nbformat": 3,
 "nbformat_minor": 0,
 "worksheets": [
  {
   "cells": [
    {
     "cell_type": "markdown",
     "metadata": {},
     "source": [
      "Random number generation"
     ]
    },
    {
     "cell_type": "code",
     "collapsed": false,
     "input": [
      "from random import random\n",
      "x=random()\n",
      "x"
     ],
     "language": "python",
     "metadata": {},
     "outputs": []
    },
    {
     "cell_type": "markdown",
     "metadata": {},
     "source": [
      "Need to create a grid"
     ]
    },
    {
     "cell_type": "code",
     "collapsed": false,
     "input": [
      "import numpy as np\n",
      "nx=5\n",
      "ny=4\n",
      "grid=np.zeros([ny, nx])\n",
      "grid"
     ],
     "language": "python",
     "metadata": {},
     "outputs": []
    },
    {
     "cell_type": "markdown",
     "metadata": {},
     "source": [
      "Fill the grid with random numbers"
     ]
    },
    {
     "cell_type": "code",
     "collapsed": false,
     "input": [
      "for y in range(ny):\n",
      "    for x in range(nx):\n",
      "        grid[y,x]=random()\n",
      "grid\n",
      "        "
     ],
     "language": "python",
     "metadata": {},
     "outputs": []
    },
    {
     "cell_type": "markdown",
     "metadata": {},
     "source": [
      "Resistance grid function"
     ]
    },
    {
     "cell_type": "code",
     "collapsed": false,
     "input": [
      "def create_resistance_grid(nx,ny):\n",
      "    resistance=np.zeros([ny,nx])\n",
      "    for y in range(ny):\n",
      "        for x in range(nx):\n",
      "            resistance[y,x]=random()\n",
      "    return resistance"
     ],
     "language": "python",
     "metadata": {},
     "outputs": []
    },
    {
     "cell_type": "markdown",
     "metadata": {},
     "source": [
      "Test the create resistance grid function with different dimension inputs"
     ]
    },
    {
     "cell_type": "code",
     "collapsed": false,
     "input": [
      "resistance=create_resistance_grid(6,5)\n",
      "resistance"
     ],
     "language": "python",
     "metadata": {},
     "outputs": []
    },
    {
     "cell_type": "markdown",
     "metadata": {},
     "source": [
      "__Exercise 1.__  Write a function named initialize_filled_grid to create an array with filled cells indicated by the value 1 and non filled cells indicated by the value 0."
     ]
    },
    {
     "cell_type": "code",
     "collapsed": false,
     "input": [],
     "language": "python",
     "metadata": {},
     "outputs": []
    },
    {
     "cell_type": "markdown",
     "metadata": {},
     "source": [
      "Percolate one cell"
     ]
    },
    {
     "cell_type": "code",
     "collapsed": false,
     "input": [
      "found=[-1,-1]  # to keep track of the cell found with minimum resistance\n",
      "foundValue=1.1  # The minimum found value, relying on random numbers being between 0 and 1\n",
      "nsides=4  # The number of side cells\n",
      "xsteps=[1,0,-1,0]\n",
      "ysteps=[0,1,0,-1]\n",
      "for y in range(ny):\n",
      "    for x in range(nx):\n",
      "        if(filled[y,x]==1):\n",
      "            for side in range(nsides):\n",
      "                # get the neighbor cells\n",
      "                xn=x+xsteps[side]\n",
      "                yn=y+ysteps[side]\n",
      "                # check if in the grid\n",
      "                if(xn < nx and xn>=0 \n",
      "                    and yn < ny and yn >=0\n",
      "                    and filled[yn,xn]==0  # Has not been percolated\n",
      "                    and grid[yn,xn]<foundValue):  # Here we have a candidate cell to percolate into\n",
      "                        found=[yn,xn]\n",
      "                        foundValue=grid[yn,xn]\n",
      "if(found[0]>=0 and found[1]>=0):  #  Here we did actually find a cell to percolate to\n",
      "    filled[found[0],found[1]]=1\n",
      "filled\n",
      "            \n",
      "        "
     ],
     "language": "python",
     "metadata": {},
     "outputs": []
    },
    {
     "cell_type": "markdown",
     "metadata": {},
     "source": [
      "__Exercise 2.__ Write a function named percolate to percolate the filled area by one grid cell.\n",
      "\n",
      "Make this function sufficiently general to work with any size arrays (i.e. determine the size of the arrays it is given).  Hint \u2013 Google \u201cnumpy array size\u201d."
     ]
    },
    {
     "cell_type": "code",
     "collapsed": false,
     "input": [],
     "language": "python",
     "metadata": {},
     "outputs": []
    },
    {
     "cell_type": "markdown",
     "metadata": {},
     "source": [
      "__Exercise 3.__ Write code to assemble the functions we have so far\n",
      "\n",
      "* Assign inputs\n",
      "* Create_resistance_grid\n",
      "* Initialize_filled_grid\n",
      "* Percolate for a predetermined number of steps "
     ]
    },
    {
     "cell_type": "code",
     "collapsed": false,
     "input": [
      "nx=5\n",
      "ny=7\n",
      "startx=2  # note indexing from 0\n",
      "starty=3\n",
      "nsteps=7\n",
      "resistance=create_resistance_grid(nx,ny)\n",
      "filled=initialize_filled_grid(nx,ny,startx,starty)\n",
      "for i in range(nsteps):\n",
      "    filled=percolate(resistance,filled)\n",
      "filled\n",
      "\n"
     ],
     "language": "python",
     "metadata": {},
     "outputs": []
    },
    {
     "cell_type": "markdown",
     "metadata": {},
     "source": [
      "Now lets plot it.  Use ipythonblocks\n",
      "At a command shell type \"pip install ipythonblocks\"\n"
     ]
    },
    {
     "cell_type": "code",
     "collapsed": false,
     "input": [
      "from ipythonblocks import BlockGrid\n",
      "bgrid=BlockGrid(nx,ny,fill=(123,234,123))  # note that number of columns needs to be given before number of rows in creating block grid object\n",
      "red=(255,0,0)\n",
      "for x in range(nx):\n",
      "    for y in range(ny):\n",
      "        if(filled[y,x]==1): \n",
      "            bgrid[y,x].set_colors(*red)\n",
      "bgrid[starty,startx].set_colors(0,0,0)\n",
      "bgrid"
     ],
     "language": "python",
     "metadata": {},
     "outputs": []
    },
    {
     "cell_type": "markdown",
     "metadata": {},
     "source": [
      "Function to return blockplot"
     ]
    },
    {
     "cell_type": "code",
     "collapsed": false,
     "input": [
      "def blockplot(filled,startx,starty,bs):\n",
      "    ysize,xsize=filled.shape\n",
      "    bgrid=BlockGrid(xsize,ysize,fill=(123,234,123),block_size=bs)  # note that number of columns needs to be given before number of rows in creating block grid object\n",
      "    red=(255,0,0)\n",
      "    for x in range(xsize):\n",
      "        for y in range(ysize):\n",
      "            if(filled[y,x]==1): \n",
      "                bgrid[y,x].set_colors(*red)\n",
      "    bgrid[starty,startx].set_colors(0,0,0)\n",
      "    return bgrid\n",
      "pgrid=blockplot(filled,startx,starty,20)\n",
      "pgrid"
     ],
     "language": "python",
     "metadata": {},
     "outputs": []
    },
    {
     "cell_type": "markdown",
     "metadata": {},
     "source": [
      "Solution with plotting"
     ]
    },
    {
     "cell_type": "code",
     "collapsed": false,
     "input": [
      "nx=50\n",
      "ny=70\n",
      "startx=25  # note indexing from 0\n",
      "starty=35\n",
      "nsteps=200\n",
      "resistance=create_resistance_grid(nx,ny)\n",
      "filled=initialize_filled_grid(nx,ny,startx,starty)\n",
      "for i in range(nsteps):\n",
      "    filled=percolate(resistance,filled)\n",
      "pgrid=blockplot(filled,startx,starty,10)\n",
      "pgrid"
     ],
     "language": "python",
     "metadata": {},
     "outputs": []
    },
    {
     "cell_type": "markdown",
     "metadata": {},
     "source": [
      "An alternative way to plot using matplotlib"
     ]
    },
    {
     "cell_type": "code",
     "collapsed": false,
     "input": [
      "import matplotlib.pyplot as plt\n",
      "plt.imshow(filled)\n",
      "plt.show()"
     ],
     "language": "python",
     "metadata": {},
     "outputs": []
    },
    {
     "cell_type": "markdown",
     "metadata": {},
     "source": [
      "__Follow on and take home challenges__\n",
      "\n",
      "1. Change the termination rule to when the filled area reaches an edge\n",
      "2. Change the method to allow for filling in the diagonal directions too, i.e. 8 directions rather than 4.\n",
      "3. Change the loop to loop only over filled grid cells\n",
      "3. Add the capability to output the number of grid cells filled and average radius of the filled plume and plot this relationship"
     ]
    }
   ],
   "metadata": {}
  }
 ]
}